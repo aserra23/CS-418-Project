{
 "cells": [
  {
   "cell_type": "code",
   "execution_count": 162,
   "metadata": {
    "collapsed": false
   },
   "outputs": [],
   "source": [
    "from urllib.request import urlopen\n",
    "from bs4 import BeautifulSoup as soup "
   ]
  },
  {
   "cell_type": "code",
   "execution_count": 219,
   "metadata": {
    "collapsed": false
   },
   "outputs": [],
   "source": [
    "url='https://www.yelp.com/search?find_desc=Restaurants&find_loc=Chicago,+IL+60602&start=0'\n",
    "U=urlopen(url)\n",
    "page=U.read()\n",
    "U.close()\n",
    "page_soup=soup(page,'html.parser')\n"
   ]
  },
  {
   "cell_type": "code",
   "execution_count": 220,
   "metadata": {
    "collapsed": false
   },
   "outputs": [
    {
     "name": "stdout",
     "output_type": "stream",
     "text": [
      "The Dearborn\n",
      "bopNgrill\n",
      "Stock and Ledger\n",
      "The Marq\n",
      "Cochon Volant Brasserie\n",
      "Roanoke Restaurant\n",
      "The Gage\n",
      "Nando’s PERi-PERi\n",
      "Remington’s\n",
      "Brightwok Kitchen\n"
     ]
    }
   ],
   "source": [
    "# we need to fillter out some restaurant base on the zip code 60602\n",
    "restaurantID_hub=[]\n",
    "name_hub=[]\n",
    "address_hub=[]\n",
    "t=page_soup.findAll('div',{'class':'search-result natural-search-result'})\n",
    "i=0\n",
    "while i<len(t):\n",
    "    restaurantID=t[i].findAll('div',{'class':'media-story'})[0].span.text.split('.')[0]\n",
    "    name=t[i].findAll('div',{'class':'media-story'})[0].span.span.text\n",
    "    restaurantID_hub.append(restaurantID)\n",
    "    name_hub.append(name)\n",
    "    print(name)\n",
    "    try:\n",
    "        address=t[i].findAll('div',{'class':'secondary-attributes'})[0].address.text.strip()\n",
    "    except:\n",
    "        address=' '\n",
    "    else :\n",
    "        address=t[i].findAll('div',{'class':'secondary-attributes'})[0].address.text.strip()\n",
    "    address_hub.append(address)\n",
    "    i=i+1\n",
    "\n"
   ]
  },
  {
   "cell_type": "code",
   "execution_count": 221,
   "metadata": {
    "collapsed": false
   },
   "outputs": [
    {
     "data": {
      "text/plain": [
       "['145 N Dearborn StChicago, IL 60602',\n",
       " ' ',\n",
       " '70 W Madison StChicago, IL 60602',\n",
       " '60 West Adams StChicago, IL 60603',\n",
       " '100 W Monroe StChicago, IL 60603',\n",
       " '135 W Madison StChicago, IL 60602',\n",
       " '24 S Michigan AveChicago, IL 60603',\n",
       " '22 S Wabash AveChicago, IL 60603',\n",
       " '20 N Michigan AveChicago, IL 60602',\n",
       " '21 E Adams StChicago, IL 60603']"
      ]
     },
     "execution_count": 221,
     "metadata": {},
     "output_type": "execute_result"
    }
   ],
   "source": [
    "address_hub"
   ]
  },
  {
   "cell_type": "code",
   "execution_count": null,
   "metadata": {
    "collapsed": false
   },
   "outputs": [],
   "source": []
  },
  {
   "cell_type": "code",
   "execution_count": null,
   "metadata": {
    "collapsed": false
   },
   "outputs": [],
   "source": []
  },
  {
   "cell_type": "code",
   "execution_count": null,
   "metadata": {
    "collapsed": false
   },
   "outputs": [],
   "source": []
  },
  {
   "cell_type": "code",
   "execution_count": null,
   "metadata": {
    "collapsed": true
   },
   "outputs": [],
   "source": []
  }
 ],
 "metadata": {
  "kernelspec": {
   "display_name": "Python 3",
   "language": "python",
   "name": "python3"
  },
  "language_info": {
   "codemirror_mode": {
    "name": "ipython",
    "version": 3
   },
   "file_extension": ".py",
   "mimetype": "text/x-python",
   "name": "python",
   "nbconvert_exporter": "python",
   "pygments_lexer": "ipython3",
   "version": "3.4.3"
  }
 },
 "nbformat": 4,
 "nbformat_minor": 2
}
